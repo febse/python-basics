{
 "cells": [
  {
   "cell_type": "markdown",
   "metadata": {},
   "source": [
    "# Anleitung\n",
    "\n",
    "In den meisten Aufgaben in diesem Notebook werden Teile des Codes fehlen, die Sie ergänzen müssen. \n",
    "\n",
    "**Schreiben Sie ihren Coden and den Stellen, die mit `...` bezeichnet sind.**\n",
    "\n",
    "Nach den Aufgaben kommt meistens eine Testzelle. Führen Sie diese aus, um ihren Code zu testen. Die Testzellen sehen ähnlich aus wie die folgende Zelle.\n",
    "\n",
    "```python\n",
    "grader.check(\"q01\")\n",
    "```\n",
    "\n",
    "Überprüfen Sie Ihre Lösung, indem Sie die Testzelle ausführen. Wenn Sie mit Ihrer Lösung zufrieden sind, können Sie die Aufgabe in Github hochladen.\n",
    "\n",
    "Falls Sie die Aufgabe in einem lokalen Jupyter Notebook bearbeiten, können Sie die Dateien auf ihrem Computer speichern und dann auf Github hochladen.\n",
    "Öffnen Sie Ihre Repository, clicken Sie auf `Add file` und dann auf `Upload files`. Ziehen Sie die Datei in das Fenster oder suchen Sie die Dateien über `choose your files`. Schreiben Sie eine Commit-Beschreibung und clicken Sie auf `Commit changes`.\n"
   ]
  },
  {
   "cell_type": "markdown",
   "metadata": {},
   "source": [
    "# Python Basics"
   ]
  },
  {
   "cell_type": "code",
   "execution_count": null,
   "metadata": {},
   "outputs": [],
   "source": [
    "%pip install -q otter-grader\n",
    "\n",
    "import pandas as pd\n",
    "import numpy as np\n",
    "import otter\n",
    "\n",
    "grader = otter.Notebook(\"hw-basics-1.ipynb\")\n",
    "\n",
    "%matplotlib inline"
   ]
  },
  {
   "cell_type": "markdown",
   "metadata": {
    "deletable": false,
    "editable": false
   },
   "source": [
    "## Aufgabe 1\n",
    "\n",
    "Erstellen Sie eine Variable `earnings_sam` und weisen Sie dieser den Wert `24391.22` zu. Erstellen Sie eine Variable `earnings_average` und weisen Sie dieser den Wert `23512.53` zu.\n",
    "Erstellen Sie eine Variable `report_sam`, die den Text `\"Samuel's earnings are ... higher than the average.\"`. Fügen Sie die Differenz zwischen `earnings_sam` und `earnings_average` anstelle der Punkte ein. Runden Sie die Differenz auf zwei Dezimalstellen ab (nutzen Sie die Funktion `round()`)."
   ]
  },
  {
   "cell_type": "code",
   "execution_count": null,
   "metadata": {
    "deletable": false,
    "editable": false
   },
   "outputs": [],
   "source": [
    "# *Hinweis*: Shauen Sie sich das Beispiel hier an und benutzen Sie ein Format-String, um die Variablen in den Text einzufügen.*\n",
    "\n",
    "x = 5.2\n",
    "y = 3.1\n",
    "xy_diff = round(x - y, 2)\n",
    "report_sam = f\"x is {x}\""
   ]
  },
  {
   "cell_type": "code",
   "execution_count": null,
   "metadata": {
    "tags": [
     "otter_answer_cell"
    ]
   },
   "outputs": [],
   "source": [
    "\n",
    "earnings_sam = ...\n",
    "earnings_average = ...\n",
    "..."
   ]
  },
  {
   "cell_type": "code",
   "execution_count": null,
   "metadata": {
    "deletable": false,
    "editable": false
   },
   "outputs": [],
   "source": [
    "grader.check(\"q1\")"
   ]
  },
  {
   "cell_type": "markdown",
   "metadata": {},
   "source": [
    "# Numpy"
   ]
  },
  {
   "cell_type": "markdown",
   "metadata": {
    "deletable": false,
    "editable": false
   },
   "source": [
    "**Aufgabe 2**\n",
    "\n",
    "Erstellen Sie ein NumPy Array `earnings`, das die Werte 24391.22, 23512.53, 15342.32, 26342.32, 78342.32 enthält. Diese Werte repräsentieren das Jahreseinkommen von 5 Personen in EUR.\n",
    "\n",
    "- Wie viele Elemente sind in dem Array? Benutzen Sie die Funktion `len()` und speichern Sie das Ergebnis in der Variable `earnings_len`.\n",
    "- Wie viel ist der Durchschnitt der Werte im Array? Benutzen Sie die Funktion `np.mean()` und speichern Sie das Ergebnis in der Variable `earnings_mean`.\n",
    "- Erstellen Sie ein Array `earnings_bgn`, das die Werte von `earnings` in BGN enthält. Der Wechselkurs ist `1 EUR = 1.95583 BGN`.\n",
    "- Erstellen Sie ein Array `earnings_bgn_high`, das die Werte von `earnings_bgn` in BGN enthält, die höher als 25000 EUR sind.\n"
   ]
  },
  {
   "cell_type": "code",
   "execution_count": null,
   "metadata": {
    "tags": [
     "otter_answer_cell"
    ]
   },
   "outputs": [],
   "source": [
    "import numpy as np\n",
    "\n",
    "earnings = np.array([...])\n",
    "earnings_bgn = ...\n",
    "earnings_bgn_high = ..."
   ]
  },
  {
   "cell_type": "code",
   "execution_count": null,
   "metadata": {
    "deletable": false,
    "editable": false
   },
   "outputs": [],
   "source": [
    "grader.check(\"q2\")"
   ]
  },
  {
   "cell_type": "markdown",
   "metadata": {
    "deletable": false,
    "editable": false
   },
   "source": [
    "**Aufgabe 3:** In dieser Aufgabe möchten wir einige grundlegende Operationen mit Numpy üben.\n",
    "\n",
    "- Erstellen Sie ein Numpy Array `a` mit den ganzen Zahlen von 0 bis 10 000 (einschließlich). **Hinweis**: Benutzen Sie die Funktion `np.arange` und achten Sie darauf, dass der Endwert im Array enthalten ist.\n",
    "- Estellen Sie ein Numpy Array `b` mit den Werten 1 bis 101 (einschließlich) in Schritten von 2.\n",
    "- Erstellen Sie ein Numpy Array `b_squared` mit den Quadraten der Werte in `b`.\n",
    "- Erstellen Sie ein Numpy Array x, das 1000 Werte zwischen -2 und 2 (einschließlich) enthält. **Hinweis**: Benutzen Sie die Funktion `np.linspace`.\n"
   ]
  },
  {
   "cell_type": "code",
   "execution_count": null,
   "metadata": {
    "tags": [
     "otter_answer_cell"
    ]
   },
   "outputs": [],
   "source": [
    "a = ...\n",
    "b = ...\n",
    "b_squared = ...\n",
    "x = ..."
   ]
  },
  {
   "cell_type": "code",
   "execution_count": null,
   "metadata": {
    "deletable": false,
    "editable": false
   },
   "outputs": [],
   "source": [
    "grader.check(\"q3\")"
   ]
  },
  {
   "cell_type": "markdown",
   "metadata": {
    "deletable": false,
    "editable": false
   },
   "source": [
    "**Aufgabe 4:** Gegeben ist ein Numpy Array `unnormed` mit 1000 Werten zwischen 0 und 10 (einschließlich). Wir möchten das Array normieren, sodass die Werte zwischen 0 und 1 liegen und sich zu eins addieren. Die normierten Werte sollen in einem Numpy Array `probs` gespeichert werden."
   ]
  },
  {
   "cell_type": "code",
   "execution_count": null,
   "metadata": {
    "tags": [
     "otter_answer_cell"
    ]
   },
   "outputs": [],
   "source": [
    "np.random.seed(42)\n",
    "\n",
    "unnormed = np.random.randint(0, 10, 1000)\n",
    "probs = ..."
   ]
  },
  {
   "cell_type": "code",
   "execution_count": null,
   "metadata": {
    "deletable": false,
    "editable": false
   },
   "outputs": [],
   "source": [
    "grader.check(\"q4\")"
   ]
  },
  {
   "cell_type": "markdown",
   "metadata": {
    "deletable": false,
    "editable": false
   },
   "source": [
    "**Aufgabe 5:** Gegeben ist ein Numpy Array `sens_measurements` containing 1000 measurements of a temperature sensor. Wir möchten diese Messungen als Abweichungen von einem Mittelwert darstellen. Erstellen Sie ein Numpy Array `sens_centered` mit den Abweichungen der Messungen von dem Mittelwert.\n",
    "Ferner möchten wir die Abweichungen in Einheiten der Standardabweichungen (der Messungen) darstellen. Erstellen Sie ein Numpy Array `sens_standardized` mit den standardisierten Messungen.\n",
    "\n",
    "**Hinweis**: Sie können die Funktionen `np.mean` und `np.std` benutzen, um den Mittelwert und die Standardabweichung eines Numpy Arrays zu berechnen.\n",
    "Achten Sie darauf, dass Sie die Standardabweichung mit `ddof=1` berechnen, um die Anzahl der Freiheitsgrade zu berücksichtigen.\n",
    "\n",
    "Die empirische Standardabweichung ist definiert als:\n",
    "\n",
    "$$\n",
    "S_x = \\sqrt{\\frac{1}{n-1} \\sum_{i=1}^n (x_i - \\bar{x})^2}\n",
    "$$\n",
    "\n",
    "wobei $\\bar{x}$ der Mittelwert der Messungen ist und $n$ die Anzahl der Messungen ist. `np.std` berechnet die Standardabweichung nach der Formel:\n",
    "\n",
    "$$\n",
    "S_x = \\sqrt{\\frac{1}{n - \\text{ddof}} \\sum_{i=1}^n (x_i - \\bar{x})^2}\n",
    "$$"
   ]
  },
  {
   "cell_type": "code",
   "execution_count": null,
   "metadata": {
    "tags": [
     "otter_answer_cell"
    ]
   },
   "outputs": [],
   "source": [
    "np.random.seed(23)\n",
    "\n",
    "sens_measurements = np.random.normal(loc=15, scale=2, size=2000)\n",
    "\n",
    "sens_centered = ...\n",
    "sens_standardized = ... / ....std(ddof=1)"
   ]
  },
  {
   "cell_type": "code",
   "execution_count": null,
   "metadata": {
    "deletable": false,
    "editable": false
   },
   "outputs": [],
   "source": [
    "grader.check(\"q5\")"
   ]
  },
  {
   "cell_type": "markdown",
   "metadata": {},
   "source": [
    "# Pandas"
   ]
  },
  {
   "cell_type": "markdown",
   "metadata": {},
   "source": [
    "Die folgenden Aufgaben benutzen einen Datensatz über [Laptopspezifikationen](https://www.kaggle.com/datasets/bhavikjikadara/brand-laptops-dataset). Der Datensatz enthält unter anderem die folgenden Spalten:\n",
    "\n",
    "- \"brand\": Die Marke des Laptops\n",
    "- \"Model\": Das Modell des Laptops\n",
    "- \"Price\": Der Preis des Laptops in Indischen Rupien\n",
    "- \"Rating\": Die Bewertung des Laptops\n",
    "- \"processor_brand\": Der Prozessor des Laptops\n",
    "- \"num_cores\": Die Anzahl der Prozessorkerne"
   ]
  },
  {
   "cell_type": "code",
   "execution_count": null,
   "metadata": {},
   "outputs": [],
   "source": [
    "laptops = pd.read_csv('https://github.com/febse/data/raw/main/econ/laptops_2024_01.csv')\n",
    "laptops.head()"
   ]
  },
  {
   "cell_type": "markdown",
   "metadata": {
    "deletable": false,
    "editable": false
   },
   "source": [
    "**Aufgabe 6:** In dieser Aufgabe möchten wir einige Zusammenfassungen über die Laptops in dem Datensatz erstellen:\n",
    "\n",
    "- Die Anzahl der Laptops in dem Datensatz. Die Anzahl soll in einer Variable `number_of_laptops` gespeichert werden.\n",
    "- Die durchschnittliche Bewertung der Laptops in dem Datensatz. Die Bewertung soll in einer Variable `average_rating` gespeichert werden.\n",
    "- Die Anzahl der Laptops, die von der Marke \"Dell\" sind. Die Anzahl soll in einer Variable `number_of_dell_laptops` gespeichert werden.\n",
    "- Die Anzahl der verschiedenen Laptopbrands in dem Datensatz. Die Anzahl soll in einer Variable `number_of_brands` gespeichert werden.\n",
    "- Der Anteil der Laptops, die mehr als 4 Prozessorkerne haben. Der Anteil soll in einer Variable `share_of_laptops_with_more_than_4_cores` gespeichert werden.\n",
    "- Der durchschnittliche Preis der Laptops je nach Anzahl der Prozessorkerne. Die Ergebnisse sollen in einer Serie `average_price_by_number_of_cores` gespeichert werden."
   ]
  },
  {
   "cell_type": "code",
   "execution_count": null,
   "metadata": {
    "tags": [
     "otter_answer_cell"
    ]
   },
   "outputs": [],
   "source": [
    "number_of_laptops = ...\n",
    "average_rating = ...\n",
    "number_of_dell_laptops = ...\n",
    "number_of_brands = ...\n",
    "share_of_laptops_with_more_than_4_cores = ...\n",
    "average_price_by_number_of_cores = ...\n"
   ]
  },
  {
   "cell_type": "code",
   "execution_count": null,
   "metadata": {
    "deletable": false,
    "editable": false
   },
   "outputs": [],
   "source": [
    "grader.check(\"q6\")"
   ]
  },
  {
   "cell_type": "markdown",
   "metadata": {
    "deletable": false,
    "editable": false
   },
   "source": [
    "**Aufgabe 7:** In dieser Aufgabe möchten wir einige grundlegende Datentransformationen üben. Wir werden den Datensatz `laptops` benutzen.\n",
    "\n",
    "- Wir möchten eine neue Spalte `price_in_euro` erstellen, die den Preis des Laptops in Euro enthält. Der Wechselkurs sei 1 Indische Rupie = 0.011 Euro. Die Spalte soll in dem Datensatz hinzugefügt werden.\n",
    "- Berechnen Sie den durchschnittlichen Preis (in EUR) der Laptops. Speichern Sie den Wert in einer Variable `average_price_in_euro`.\n",
    "- Wir möchten eine neue Spalte `price_category` erstellen, die die Preiskategorie des Laptops enthält. Die Preiskategorien sind \"low\", \"medium\" und \"high\". Die Kategorien sollen wie folgt definiert werden:\n",
    "    - \"low\": Der Preis des Laptops ist kleiner oder gleich 200 EUR\n",
    "    - \"medium\": Der Preis des Laptops ist größer als 200 EUR und kleiner oder 700 EUR\n",
    "    - \"high\": Der Preis des Laptops ist größer als 700 EUR\n",
    "- Wie viele Laptops gehören zu jeder Preiskategorie? Die Anzahl der Laptops in jeder Kategorie soll in einer Series `number_of_laptops_in_price_category` gespeichert werden.\n",
    "- Wir möchten eine neue Spalte `price_per_core` (in EUR) erstellen, die den Preis pro Prozessorkern des Laptops enthält. Die Spalte soll in dem Datensatz hinzugefügt werden.\n",
    "- Welcher Brand hat den höchsten durchschnittlichen Preis pro Prozessorkern? Die Antwort soll in einer Variable `brand_with_highest_average_price_per_core` gespeichert werden. *Hinweis*: Benuzten Sie die Methode `idxmax()`.\n",
    "\n",
    "**Hinweis:** Sie können die Funktion `pd.cut` verwenden, um eine numerische Variable in Kategorien zu unterteilen.\n",
    "\n",
    "```python\n",
    "import pandas as pd\n",
    "\n",
    "values = [20, 100, 300, 500, 900]\n",
    "categories = pd.cut(values, bins = [0, 200, 1000])\n",
    "\n",
    "print(categories) \n",
    "# Gibt [(0, 200], (0, 200], (200, 1000], (200, 1000], (200, 1000]] aus\n",
    "\n",
    "categories_with_labels = pd.cut(values, bins = [0, 200, 1000], labels = [\"Label A\", \"Label B\"])\n",
    "print(categories_with_labels) \n",
    "# Gibt ['Label A', 'Label A', 'Label B', 'Label B', 'Label B'] aus\n",
    "```"
   ]
  },
  {
   "cell_type": "code",
   "execution_count": null,
   "metadata": {
    "tags": [
     "otter_answer_cell"
    ]
   },
   "outputs": [],
   "source": [
    "laptops['price_in_euro'] = ... * 0.011\n",
    "average_price_in_euro = ...\n",
    "laptops[\"price_category\"] = pd.cut(..., bins=..., labels=...)\n",
    "number_of_laptops_in_price_category = ...\n",
    "\n",
    "laptops[\"price_per_core\"] = ... / ...\n",
    "brand_with_highest_average_price_per_core = ..."
   ]
  },
  {
   "cell_type": "code",
   "execution_count": null,
   "metadata": {
    "deletable": false,
    "editable": false
   },
   "outputs": [],
   "source": [
    "grader.check(\"q7\")"
   ]
  }
 ],
 "metadata": {
  "kernelspec": {
   "display_name": "opt2025-de",
   "language": "python",
   "name": "python3"
  },
  "language_info": {
   "codemirror_mode": {
    "name": "ipython",
    "version": 3
   },
   "file_extension": ".py",
   "mimetype": "text/x-python",
   "name": "python",
   "nbconvert_exporter": "python",
   "pygments_lexer": "ipython3",
   "version": "3.11.11"
  },
  "otter": {
   "OK_FORMAT": true,
   "tests": {
    "q1": {
     "name": "q1",
     "points": null,
     "suites": [
      {
       "cases": [
        {
         "code": ">>> earnings_sam == 24391.22\nTrue",
         "hidden": false,
         "locked": false
        },
        {
         "code": ">>> earnings_average == 23512.53\nTrue",
         "hidden": false,
         "locked": false
        },
        {
         "code": ">>> report_sam == \"Samuel's earnings are 878.69 higher than the average.\"\nTrue",
         "hidden": false,
         "locked": false
        }
       ],
       "scored": true,
       "setup": "",
       "teardown": "",
       "type": "doctest"
      }
     ]
    },
    "q2": {
     "name": "q2",
     "points": null,
     "suites": [
      {
       "cases": [
        {
         "code": ">>> len(earnings) == 5\nTrue",
         "hidden": false,
         "locked": false
        },
        {
         "code": ">>> np.isclose(earnings, np.array([24391.22, 23512.53, 15342.32, 26342.32, 78342.32])).all()\nnp.True_",
         "hidden": false,
         "locked": false
        },
        {
         "code": ">>> np.isclose(earnings_bgn, 1.95583 * np.array([24391.22, 23512.53, 15342.32, 26342.32, 78342.32])).all()\nnp.True_",
         "hidden": false,
         "locked": false
        },
        {
         "code": ">>> len(earnings_bgn_high) == 2\nTrue",
         "hidden": false,
         "locked": false
        },
        {
         "code": ">>> np.isclose(earnings_bgn_high, np.array([51521.0997256, 153224.2597256])).all()\nnp.True_",
         "hidden": false,
         "locked": false
        }
       ],
       "scored": true,
       "setup": "",
       "teardown": "",
       "type": "doctest"
      }
     ]
    },
    "q3": {
     "name": "q3",
     "points": null,
     "suites": [
      {
       "cases": [
        {
         "code": ">>> def test_a(a):\n...     assert a[0] == 0\n...     assert a[1] == 1\n...     assert a[2] == 2\n...     assert a[3] == 3\n...     assert a[4] == 4\n...     assert a[5] == 5\n...     assert a[6] == 6\n...     assert a[7] == 7\n...     assert a[8] == 8\n...     assert a[9] == 9\n...     assert a[10] == 10\n...     assert a[100] == 100\n...     assert a[1000] == 1000\n...     assert a[-1] == 10000\n>>> test_a(a)\n",
         "hidden": false,
         "locked": false
        },
        {
         "code": ">>> def test_b(b):\n...     assert b[0] == 1\n...     assert b[1] == 3\n...     assert b[-1] == 101\n>>> test_b(b)\n",
         "hidden": false,
         "locked": false
        },
        {
         "code": ">>> def test_b_squared(b_squared):\n...     assert b_squared[0] == 1\n...     assert b_squared[1] == 9\n...     assert b_squared[-1] == 10201\n>>> test_b_squared(b_squared)\n",
         "hidden": false,
         "locked": false
        },
        {
         "code": ">>> def test_x(x):\n...     assert len(x) == 1000\n...     assert x[0] == -2\n...     assert np.isclose(x[1], -1.995995995995996)\n...     assert x[-1] == 2\n>>> test_x(x)\n",
         "hidden": false,
         "locked": false
        }
       ],
       "scored": true,
       "setup": "",
       "teardown": "",
       "type": "doctest"
      }
     ]
    },
    "q4": {
     "name": "q4",
     "points": null,
     "suites": [
      {
       "cases": [
        {
         "code": ">>> len(probs) == len(unnormed)\nTrue",
         "hidden": false,
         "locked": false
        },
        {
         "code": ">>> np.isclose(probs.sum(), 1)\nnp.True_",
         "hidden": false,
         "locked": false
        }
       ],
       "scored": true,
       "setup": "",
       "teardown": "",
       "type": "doctest"
      }
     ]
    },
    "q5": {
     "name": "q5",
     "points": null,
     "suites": [
      {
       "cases": [
        {
         "code": ">>> len(sens_standardized) == 2000\nTrue",
         "hidden": false,
         "locked": false
        },
        {
         "code": ">>> np.isclose(np.mean(sens_standardized), 0)\nnp.True_",
         "hidden": false,
         "locked": false
        },
        {
         "code": ">>> np.isclose(np.std(sens_standardized, ddof=1), 1)\nnp.True_",
         "hidden": false,
         "locked": false
        }
       ],
       "scored": true,
       "setup": "",
       "teardown": "",
       "type": "doctest"
      }
     ]
    },
    "q6": {
     "name": "q6",
     "points": null,
     "suites": [
      {
       "cases": [
        {
         "code": ">>> number_of_laptops == 991\nTrue",
         "hidden": false,
         "locked": false
        },
        {
         "code": ">>> np.isclose(average_rating, 63.9313824419778)\nnp.True_",
         "hidden": false,
         "locked": false
        },
        {
         "code": ">>> number_of_dell_laptops == 106\nTrue",
         "hidden": false,
         "locked": false
        },
        {
         "code": ">>> number_of_brands == 26\nTrue",
         "hidden": false,
         "locked": false
        },
        {
         "code": ">>> np.isclose(share_of_laptops_with_more_than_4_cores, 0.7759838546922301)\nnp.True_",
         "hidden": false,
         "locked": false
        }
       ],
       "scored": true,
       "setup": "",
       "teardown": "",
       "type": "doctest"
      }
     ]
    },
    "q7": {
     "name": "q7",
     "points": null,
     "suites": [
      {
       "cases": [
        {
         "code": ">>> np.isclose(laptops['price_in_euro'][0], 263.89)\nnp.True_",
         "hidden": false,
         "locked": false
        },
        {
         "code": ">>> np.isclose(average_price_in_euro, 849.9315499495459)\nnp.True_",
         "hidden": false,
         "locked": false
        },
        {
         "code": ">>> laptops['price_category'][0] == 'medium'\nTrue",
         "hidden": false,
         "locked": false
        },
        {
         "code": ">>> laptops['price_category'][5] == 'high'\nTrue",
         "hidden": false,
         "locked": false
        },
        {
         "code": ">>> laptops['price_category'][70] == 'low'\nTrue",
         "hidden": false,
         "locked": false
        },
        {
         "code": ">>> len(number_of_laptops_in_price_category) == 3\nTrue",
         "hidden": false,
         "locked": false
        },
        {
         "code": ">>> number_of_laptops_in_price_category['medium'] == 504\nnp.True_",
         "hidden": false,
         "locked": false
        },
        {
         "code": ">>> number_of_laptops_in_price_category['low'] == 14\nnp.True_",
         "hidden": false,
         "locked": false
        },
        {
         "code": ">>> np.isclose(laptops['price_per_core'][0], 131.945)\nnp.True_",
         "hidden": false,
         "locked": false
        },
        {
         "code": ">>> brand_with_highest_average_price_per_core == 'apple'\nTrue",
         "hidden": false,
         "locked": false
        }
       ],
       "scored": true,
       "setup": "",
       "teardown": "",
       "type": "doctest"
      }
     ]
    }
   }
  }
 },
 "nbformat": 4,
 "nbformat_minor": 2
}
